{
 "cells": [
  {
   "cell_type": "markdown",
   "metadata": {},
   "source": [
    "# UTS Machine Learning"
   ]
  },
  {
   "cell_type": "code",
   "execution_count": 2,
   "metadata": {},
   "outputs": [],
   "source": [
    "# import library\n",
    "import cv2 as cv\n",
    "import numpy as np\n",
    "from sklearn.cluster import KMeans"
   ]
  },
  {
   "cell_type": "markdown",
   "metadata": {},
   "source": [
    "### Try-1"
   ]
  },
  {
   "cell_type": "code",
   "execution_count": 1,
   "metadata": {},
   "outputs": [
    {
     "ename": "NameError",
     "evalue": "name 'cv' is not defined",
     "output_type": "error",
     "traceback": [
      "\u001b[1;31m---------------------------------------------------------------------------\u001b[0m",
      "\u001b[1;31mNameError\u001b[0m                                 Traceback (most recent call last)",
      "\u001b[1;32md:\\1_KULIAHH\\SEMESTER-5\\MACHLEARN\\repo-jobsheet\\2141720091-MachLearn-2023\\13_IlhamYudantyo_UTS_task.ipynb Cell 4\u001b[0m line \u001b[0;36m3\n\u001b[0;32m      <a href='vscode-notebook-cell:/d%3A/1_KULIAHH/SEMESTER-5/MACHLEARN/repo-jobsheet/2141720091-MachLearn-2023/13_IlhamYudantyo_UTS_task.ipynb#W3sZmlsZQ%3D%3D?line=0'>1</a>\u001b[0m \u001b[39mfrom\u001b[39;00m \u001b[39msklearn\u001b[39;00m\u001b[39m.\u001b[39;00m\u001b[39mcluster\u001b[39;00m \u001b[39mimport\u001b[39;00m KMeans\n\u001b[1;32m----> <a href='vscode-notebook-cell:/d%3A/1_KULIAHH/SEMESTER-5/MACHLEARN/repo-jobsheet/2141720091-MachLearn-2023/13_IlhamYudantyo_UTS_task.ipynb#W3sZmlsZQ%3D%3D?line=2'>3</a>\u001b[0m image \u001b[39m=\u001b[39m cv\u001b[39m.\u001b[39mimread(\u001b[39m'\u001b[39m\u001b[39mfolder-img/6.jpg\u001b[39m\u001b[39m'\u001b[39m)\n\u001b[0;32m      <a href='vscode-notebook-cell:/d%3A/1_KULIAHH/SEMESTER-5/MACHLEARN/repo-jobsheet/2141720091-MachLearn-2023/13_IlhamYudantyo_UTS_task.ipynb#W3sZmlsZQ%3D%3D?line=3'>4</a>\u001b[0m image \u001b[39m=\u001b[39m cv\u001b[39m.\u001b[39mcvtColor(image, cv\u001b[39m.\u001b[39mCOLOR_BGR2RGB) \u001b[39m# ubah ke format warna yang sesuai \u001b[39;00m\n\u001b[0;32m      <a href='vscode-notebook-cell:/d%3A/1_KULIAHH/SEMESTER-5/MACHLEARN/repo-jobsheet/2141720091-MachLearn-2023/13_IlhamYudantyo_UTS_task.ipynb#W3sZmlsZQ%3D%3D?line=5'>6</a>\u001b[0m \u001b[39m# ubah gambar ke dalam larik piksel \u001b[39;00m\n",
      "\u001b[1;31mNameError\u001b[0m: name 'cv' is not defined"
     ]
    }
   ],
   "source": [
    "from sklearn.cluster import KMeans\n",
    "\n",
    "image = cv.imread('folder-img/6.jpg')\n",
    "image = cv.cvtColor(image, cv.COLOR_BGR2RGB) # ubah ke format warna yang sesuai \n",
    "\n",
    "# ubah gambar ke dalam larik piksel \n",
    "pixels = image.reshape(-1, 3)\n",
    "\n",
    "# menentukan jumlah cluster \n",
    "cluster = 2\n",
    "\n",
    "# inisiasi model KMeans clustering\n",
    "model = KMeans(n_clusters=cluster)\n",
    "model.fit(pixels)\n",
    "\n",
    "# mendapatkan label kluster untuk setiap pixel \n",
    "labels = model.labels_\n",
    "\n",
    "# membentuk kembali gambar dengan label kluster \n",
    "segmented_image = labels.reshape(image.shape[:2])\n",
    "segmented_image = np.uint8(segmented_image)\n"
   ]
  },
  {
   "cell_type": "code",
   "execution_count": 10,
   "metadata": {},
   "outputs": [],
   "source": [
    "import cv2\n",
    "import numpy as np\n",
    "\n",
    "# Membaca gambar plat nomor\n",
    "image = cv2.imread('folder-img/2.jpg')\n",
    "\n",
    "# Konversi gambar ke skala abu-abu\n",
    "gray_image = cv2.cvtColor(image, cv2.COLOR_BGR2GRAY)\n",
    "\n",
    "# Penerapan thresholding (ubah 128 sesuai dengan nilai yang sesuai)\n",
    "_, binary_image = cv2.threshold(gray_image, 128, 255, cv2.THRESH_BINARY)\n",
    "\n",
    "# Penghilangan noise menggunakan median blur\n",
    "denoised_image = cv2.medianBlur(binary_image, 5)  # Ubah kernel size sesuai kebutuhan\n",
    "\n",
    "# Tampilkan gambar yang telah diproses\n",
    "cv2.imshow('Original Image', image)\n",
    "cv2.imshow('Gray Image', gray_image)\n",
    "cv2.imshow('Binary Image', binary_image)\n",
    "cv2.imshow('Denoised Image', denoised_image)\n",
    "\n",
    "# Tunggu hingga pengguna menekan tombol keyboard dan keluar\n",
    "cv2.waitKey(0)\n",
    "cv2.destroyAllWindows()\n"
   ]
  },
  {
   "cell_type": "code",
   "execution_count": 8,
   "metadata": {},
   "outputs": [],
   "source": [
    "cv.imshow('Segmented Image', segmented_image)\n",
    "cv.waitKey(0)\n",
    "cv.destroyAllWindows()"
   ]
  },
  {
   "cell_type": "markdown",
   "metadata": {},
   "source": [
    "### Try-2"
   ]
  },
  {
   "cell_type": "code",
   "execution_count": 14,
   "metadata": {},
   "outputs": [],
   "source": [
    "# 1. Memuat Gambar dan Prapemrosesan Awal\n",
    "image = cv.imread('folder-img/1.jpg')\n",
    "gray = cv.cvtColor(image, cv.COLOR_BGR2GRAY)\n",
    "blurred = cv.GaussianBlur(gray, (5, 5), 0)\n",
    "_, thresh = cv.threshold(blurred, 0, 255, cv.THRESH_BINARY + cv.THRESH_OTSU)"
   ]
  },
  {
   "cell_type": "code",
   "execution_count": 15,
   "metadata": {},
   "outputs": [],
   "source": [
    "# 2. Ekstraksi ciri (deteksi tepi)\n",
    "edges = cv.Canny(thresh, 100, 200)"
   ]
  },
  {
   "cell_type": "code",
   "execution_count": 16,
   "metadata": {},
   "outputs": [],
   "source": [
    "# 3. Pemrosesan dengan K-Means clustering\n",
    "pixel_values = image.reshape((-1, 3))\n",
    "pixel_values = np.float32(pixel_values)"
   ]
  },
  {
   "cell_type": "code",
   "execution_count": 17,
   "metadata": {},
   "outputs": [],
   "source": [
    "# 4. Menentukan jumlah cluster (dalam kasus ini saya mencoba mengambil 2 kluster)\n",
    "k = 2\n",
    "criteria  = (cv.TERM_CRITERIA_EPS + cv.TERM_CRITERIA_MAX_ITER, 100, 0.2)\n",
    "_, labels, (centers) = cv.kmeans(pixel_values, k, None, criteria, 10, cv.KMEANS_RANDOM_CENTERS)"
   ]
  },
  {
   "cell_type": "code",
   "execution_count": 18,
   "metadata": {},
   "outputs": [],
   "source": [
    "# Konversi label ke bentuk gambar\n",
    "label = labels.flatten()\n",
    "segmented_image = centers[labels]"
   ]
  },
  {
   "cell_type": "code",
   "execution_count": 19,
   "metadata": {},
   "outputs": [],
   "source": [
    "# Mengambalikan gambar ke bentuk awal \n",
    "segmented_image = segmented_image.reshape(image.shape)"
   ]
  },
  {
   "cell_type": "code",
   "execution_count": 20,
   "metadata": {},
   "outputs": [],
   "source": [
    "# 4. Tampilkan Hasil Segmentasi\n",
    "cv.imshow('Segmented Image', segmented_image)\n",
    "cv.waitKey(0)\n",
    "cv.destroyAllWindows()"
   ]
  },
  {
   "cell_type": "markdown",
   "metadata": {},
   "source": [
    "### Try-3"
   ]
  },
  {
   "cell_type": "code",
   "execution_count": 3,
   "metadata": {},
   "outputs": [
    {
     "name": "stderr",
     "output_type": "stream",
     "text": [
      "d:\\folder_laptop\\apk_desktop\\Anaconda\\installation\\Lib\\site-packages\\sklearn\\cluster\\_kmeans.py:1412: FutureWarning: The default value of `n_init` will change from 10 to 'auto' in 1.4. Set the value of `n_init` explicitly to suppress the warning\n",
      "  super()._check_params_vs_input(X, default_n_init=10)\n",
      "C:\\Users\\Lenovo\\AppData\\Local\\Temp\\ipykernel_9480\\1833644316.py:26: DeprecationWarning: NumPy will stop allowing conversion of out-of-bound Python integers to integer arrays.  The conversion of 510 to uint8 will fail in the future.\n",
      "For the old behavior, usually:\n",
      "    np.array(value).astype(dtype)`\n",
      "will give the desired result (the cast overflows).\n",
      "  segmented_image[label_mask] = 255 * (i + 1)  # Memberi warna berbeda untuk setiap kluster\n"
     ]
    }
   ],
   "source": [
    "# 1. Prapemrosesan Gambar\n",
    "image = cv.imread('folder-img/5.jpg')\n",
    "gray_image = cv.cvtColor(image, cv.COLOR_BGR2GRAY)\n",
    "blurred_image = cv.GaussianBlur(gray_image, (5, 5), 0)\n",
    "\n",
    "# 2. Ekstraksi Fitur (Contoh: Peningkatan Kontras)\n",
    "_, enhanced_image = cv.threshold(blurred_image, 128, 255, cv.THRESH_BINARY + cv.THRESH_OTSU)\n",
    "\n",
    "# 3. Konversi Gambar ke Array Piksel\n",
    "pixel_data = np.array(enhanced_image)\n",
    "\n",
    "# 4. Penentuan Jumlah Kluster\n",
    "num_clusters = 2  # Dalam contoh ini, 2 kluster: plat nomor dan latar belakang\n",
    "\n",
    "# 5. Penerapan K-Means\n",
    "pixel_data = pixel_data.reshape((-1, 1))  # Ubah bentuk data menjadi 2D\n",
    "kmeans = KMeans(n_clusters=num_clusters, random_state=0).fit(pixel_data)\n",
    "labels = kmeans.labels_\n",
    "\n",
    "# 6. Segmentasi Gambar\n",
    "segmented_image = np.zeros_like(enhanced_image)\n",
    "for i in range(num_clusters):\n",
    "    # Ubah bentuk data kembali ke ukuran asli gambar\n",
    "    label_mask = labels == i\n",
    "    label_mask = label_mask.reshape(enhanced_image.shape)\n",
    "    segmented_image[label_mask] = 255 * (i + 1)  # Memberi warna berbeda untuk setiap kluster\n",
    "\n",
    "# 7. Tampilkan Hasil\n",
    "cv.imshow('Original Image', image)\n",
    "cv.imshow('Enhanced Image', enhanced_image)\n",
    "cv.imshow('Segmented Image', segmented_image)\n",
    "\n",
    "# Tunggu hingga pengguna menekan tombol keyboard dan keluar\n",
    "cv.waitKey(0)\n",
    "cv.destroyAllWindows()\n"
   ]
  }
 ],
 "metadata": {
  "kernelspec": {
   "display_name": "base",
   "language": "python",
   "name": "python3"
  },
  "language_info": {
   "codemirror_mode": {
    "name": "ipython",
    "version": 3
   },
   "file_extension": ".py",
   "mimetype": "text/x-python",
   "name": "python",
   "nbconvert_exporter": "python",
   "pygments_lexer": "ipython3",
   "version": "3.11.4"
  }
 },
 "nbformat": 4,
 "nbformat_minor": 2
}
