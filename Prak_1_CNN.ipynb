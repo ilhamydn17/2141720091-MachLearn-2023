{
  "nbformat": 4,
  "nbformat_minor": 0,
  "metadata": {
    "colab": {
      "provenance": [],
      "gpuType": "T4",
      "mount_file_id": "1oYWjssb0SVoC9XyNd0_E13KBnMQ_NTx0",
      "authorship_tag": "ABX9TyOjFtuCzHnNuYvu765Hed9U",
      "include_colab_link": true
    },
    "kernelspec": {
      "name": "python3",
      "display_name": "Python 3"
    },
    "language_info": {
      "name": "python"
    },
    "accelerator": "GPU"
  },
  "cells": [
    {
      "cell_type": "markdown",
      "metadata": {
        "id": "view-in-github",
        "colab_type": "text"
      },
      "source": [
        "<a href=\"https://colab.research.google.com/github/ilhamydn17/2141720091-MachLearn-2023/blob/week-11/Prak_1_CNN.ipynb\" target=\"_parent\"><img src=\"https://colab.research.google.com/assets/colab-badge.svg\" alt=\"Open In Colab\"/></a>"
      ]
    },
    {
      "cell_type": "markdown",
      "source": [
        "# Praktikum 1 - CNN\n",
        "## Klasifikasi Anjing dan Kucing"
      ],
      "metadata": {
        "id": "KG7WnH_peTzO"
      }
    },
    {
      "cell_type": "markdown",
      "source": [
        "### **Import Library**"
      ],
      "metadata": {
        "id": "Cqq2dT-Eedtt"
      }
    },
    {
      "cell_type": "code",
      "execution_count": null,
      "metadata": {
        "id": "ZziBXcBOc22B"
      },
      "outputs": [],
      "source": [
        "import tensorflow as tf\n",
        "from keras.preprocessing.image import ImageDataGenerator"
      ]
    },
    {
      "cell_type": "markdown",
      "source": [
        "### **Pre Processing**"
      ],
      "metadata": {
        "id": "vv4rEd3bfA6c"
      }
    },
    {
      "cell_type": "markdown",
      "source": [
        "#### Pre processing data training"
      ],
      "metadata": {
        "id": "b5JgGgq5fQST"
      }
    },
    {
      "cell_type": "code",
      "source": [
        "# training data set path\n",
        "training_dt = 'drive/MyDrive/Kuliah/ML/week-11-CNN/dataset/training_set/'\n",
        "test_dt = 'drive/MyDrive/Kuliah/ML/week-11-CNN/dataset/test_set/'\n",
        "prediction_dt = 'drive/MyDrive/Kuliah/ML/week-11-CNN/dataset/single_prediction/'"
      ],
      "metadata": {
        "id": "yrlirhyCf1Wn"
      },
      "execution_count": 14,
      "outputs": []
    },
    {
      "cell_type": "code",
      "source": [
        "train_datagen = ImageDataGenerator(rescale = 1./255,shear_range = 0.2, zoom_range = 0.2, horizontal_flip = True)\n",
        "training_set = train_datagen.flow_from_directory(training_dt, target_size = (64, 64),batch_size = 32,class_mode = 'binary')"
      ],
      "metadata": {
        "colab": {
          "base_uri": "https://localhost:8080/"
        },
        "id": "RT8ucOmZfD2z",
        "outputId": "b28f75fb-d788-45d8-e2d6-ce4c29b43d18"
      },
      "execution_count": null,
      "outputs": [
        {
          "output_type": "stream",
          "name": "stdout",
          "text": [
            "Found 8000 images belonging to 2 classes.\n"
          ]
        }
      ]
    },
    {
      "cell_type": "markdown",
      "source": [
        "#### Pre processing data testing"
      ],
      "metadata": {
        "id": "Y5EpEOYXgScM"
      }
    },
    {
      "cell_type": "code",
      "source": [
        "test_datagen = ImageDataGenerator(rescale = 1./255)\n",
        "test_set = test_datagen.flow_from_directory(test_dt, target_size = (64, 64),batch_size = 32, class_mode = 'binary')"
      ],
      "metadata": {
        "colab": {
          "base_uri": "https://localhost:8080/"
        },
        "id": "Es7byai-gUli",
        "outputId": "a1415bfa-3655-42e7-cbae-86d1aeaaa72d"
      },
      "execution_count": null,
      "outputs": [
        {
          "output_type": "stream",
          "name": "stdout",
          "text": [
            "Found 2000 images belonging to 2 classes.\n"
          ]
        }
      ]
    },
    {
      "cell_type": "markdown",
      "source": [
        "### **Pembuatan Model CNN**"
      ],
      "metadata": {
        "id": "oq0tHu6tgmPt"
      }
    },
    {
      "cell_type": "markdown",
      "source": [
        "#### Inisiasi Model CNN"
      ],
      "metadata": {
        "id": "E6XGAGqwgrZE"
      }
    },
    {
      "cell_type": "code",
      "source": [
        "cnn = tf.keras.models.Sequential()"
      ],
      "metadata": {
        "id": "dnsk6nJtgo1a"
      },
      "execution_count": null,
      "outputs": []
    },
    {
      "cell_type": "markdown",
      "source": [
        "#### Pembuatan Layer Konvolusi 1"
      ],
      "metadata": {
        "id": "WgRIlqXcgwoa"
      }
    },
    {
      "cell_type": "code",
      "source": [
        "cnn.add(tf.keras.layers.Conv2D(filters=32, kernel_size=3, activation='relu', input_shape=[64, 64, 3]))"
      ],
      "metadata": {
        "id": "caCLkVHOg02E"
      },
      "execution_count": null,
      "outputs": []
    },
    {
      "cell_type": "markdown",
      "source": [
        "#### Pembuatan Layer Pooling 1"
      ],
      "metadata": {
        "id": "tqQlH5WEg2X6"
      }
    },
    {
      "cell_type": "code",
      "source": [
        "cnn.add(tf.keras.layers.MaxPool2D(pool_size=2, strides=2))"
      ],
      "metadata": {
        "id": "zmEUo9Sig9HE"
      },
      "execution_count": null,
      "outputs": []
    },
    {
      "cell_type": "markdown",
      "source": [
        "#### Pembuatan layer konvolusi 2 dan layer pooling 2"
      ],
      "metadata": {
        "id": "uFOJCLSRhAuD"
      }
    },
    {
      "cell_type": "code",
      "source": [
        "cnn.add(tf.keras.layers.Conv2D(filters=32, kernel_size=3, activation='relu'))\n",
        "cnn.add(tf.keras.layers.MaxPool2D(pool_size=2, strides=2))"
      ],
      "metadata": {
        "id": "ROzf_yqvhIKU"
      },
      "execution_count": null,
      "outputs": []
    },
    {
      "cell_type": "markdown",
      "source": [
        "#### Flattening"
      ],
      "metadata": {
        "id": "4kKFPK7uhVMB"
      }
    },
    {
      "cell_type": "markdown",
      "source": [
        "#### Fully connected layer 1 **(input)**"
      ],
      "metadata": {
        "id": "CXCeVWBmhaSe"
      }
    },
    {
      "cell_type": "code",
      "source": [
        "cnn.add(tf.keras.layers.Flatten())"
      ],
      "metadata": {
        "id": "sYPTKQ4EhWu7"
      },
      "execution_count": null,
      "outputs": []
    },
    {
      "cell_type": "markdown",
      "source": [
        "#### Fully Connected Layer 2 **(Output)**"
      ],
      "metadata": {
        "id": "wglUl0UUhmBz"
      }
    },
    {
      "cell_type": "code",
      "source": [
        "cnn.add(tf.keras.layers.Dense(units=1, activation='sigmoid'))"
      ],
      "metadata": {
        "id": "8wi8949IhpKv"
      },
      "execution_count": null,
      "outputs": []
    },
    {
      "cell_type": "markdown",
      "source": [
        "#### Compile Model CNN"
      ],
      "metadata": {
        "id": "vTHyL5i2htbS"
      }
    },
    {
      "cell_type": "code",
      "source": [
        "cnn.compile(optimizer = 'adam', loss = 'binary_crossentropy', metrics = ['accuracy'])"
      ],
      "metadata": {
        "id": "4CrMOBAkhzDJ"
      },
      "execution_count": null,
      "outputs": []
    },
    {
      "cell_type": "markdown",
      "source": [
        "### **Fitting Model CNN**"
      ],
      "metadata": {
        "id": "cKnC25Xrh2jL"
      }
    },
    {
      "cell_type": "code",
      "source": [
        "cnn.fit(x = training_set, validation_data = test_set, epochs = 25)"
      ],
      "metadata": {
        "colab": {
          "base_uri": "https://localhost:8080/"
        },
        "id": "AA0xQSBTiMnb",
        "outputId": "52fc4d92-015f-47eb-ec39-2d0073fd24b5"
      },
      "execution_count": 12,
      "outputs": [
        {
          "output_type": "stream",
          "name": "stdout",
          "text": [
            "Epoch 1/25\n",
            "250/250 [==============================] - 1062s 4s/step - loss: 0.6721 - accuracy: 0.5811 - val_loss: 0.6368 - val_accuracy: 0.6350\n",
            "Epoch 2/25\n",
            "250/250 [==============================] - 38s 152ms/step - loss: 0.6115 - accuracy: 0.6691 - val_loss: 0.6676 - val_accuracy: 0.6195\n",
            "Epoch 3/25\n",
            "250/250 [==============================] - 38s 152ms/step - loss: 0.5726 - accuracy: 0.7029 - val_loss: 0.5498 - val_accuracy: 0.7215\n",
            "Epoch 4/25\n",
            "250/250 [==============================] - 37s 149ms/step - loss: 0.5402 - accuracy: 0.7274 - val_loss: 0.5625 - val_accuracy: 0.7120\n",
            "Epoch 5/25\n",
            "250/250 [==============================] - 38s 153ms/step - loss: 0.5197 - accuracy: 0.7424 - val_loss: 0.5128 - val_accuracy: 0.7570\n",
            "Epoch 6/25\n",
            "250/250 [==============================] - 43s 171ms/step - loss: 0.4972 - accuracy: 0.7600 - val_loss: 0.5096 - val_accuracy: 0.7620\n",
            "Epoch 7/25\n",
            "250/250 [==============================] - 37s 148ms/step - loss: 0.4934 - accuracy: 0.7580 - val_loss: 0.4835 - val_accuracy: 0.7715\n",
            "Epoch 8/25\n",
            "250/250 [==============================] - 38s 152ms/step - loss: 0.4808 - accuracy: 0.7701 - val_loss: 0.4826 - val_accuracy: 0.7750\n",
            "Epoch 9/25\n",
            "250/250 [==============================] - 37s 146ms/step - loss: 0.4719 - accuracy: 0.7766 - val_loss: 0.4735 - val_accuracy: 0.7855\n",
            "Epoch 10/25\n",
            "250/250 [==============================] - 38s 151ms/step - loss: 0.4640 - accuracy: 0.7770 - val_loss: 0.4601 - val_accuracy: 0.7810\n",
            "Epoch 11/25\n",
            "250/250 [==============================] - 37s 148ms/step - loss: 0.4543 - accuracy: 0.7812 - val_loss: 0.4752 - val_accuracy: 0.7845\n",
            "Epoch 12/25\n",
            "250/250 [==============================] - 37s 149ms/step - loss: 0.4507 - accuracy: 0.7874 - val_loss: 0.4562 - val_accuracy: 0.7865\n",
            "Epoch 13/25\n",
            "250/250 [==============================] - 37s 149ms/step - loss: 0.4388 - accuracy: 0.7936 - val_loss: 0.4648 - val_accuracy: 0.7810\n",
            "Epoch 14/25\n",
            "250/250 [==============================] - 37s 150ms/step - loss: 0.4334 - accuracy: 0.7971 - val_loss: 0.4544 - val_accuracy: 0.7905\n",
            "Epoch 15/25\n",
            "250/250 [==============================] - 38s 152ms/step - loss: 0.4269 - accuracy: 0.8086 - val_loss: 0.4660 - val_accuracy: 0.7910\n",
            "Epoch 16/25\n",
            "250/250 [==============================] - 37s 147ms/step - loss: 0.4263 - accuracy: 0.8016 - val_loss: 0.4470 - val_accuracy: 0.8000\n",
            "Epoch 17/25\n",
            "250/250 [==============================] - 37s 150ms/step - loss: 0.4207 - accuracy: 0.8034 - val_loss: 0.4469 - val_accuracy: 0.8010\n",
            "Epoch 18/25\n",
            "250/250 [==============================] - 38s 151ms/step - loss: 0.4167 - accuracy: 0.8071 - val_loss: 0.4252 - val_accuracy: 0.8115\n",
            "Epoch 19/25\n",
            "250/250 [==============================] - 37s 147ms/step - loss: 0.4081 - accuracy: 0.8133 - val_loss: 0.4276 - val_accuracy: 0.8115\n",
            "Epoch 20/25\n",
            "250/250 [==============================] - 38s 151ms/step - loss: 0.4025 - accuracy: 0.8138 - val_loss: 0.4348 - val_accuracy: 0.8035\n",
            "Epoch 21/25\n",
            "250/250 [==============================] - 37s 148ms/step - loss: 0.4010 - accuracy: 0.8160 - val_loss: 0.4373 - val_accuracy: 0.8065\n",
            "Epoch 22/25\n",
            "250/250 [==============================] - 38s 150ms/step - loss: 0.3913 - accuracy: 0.8242 - val_loss: 0.4615 - val_accuracy: 0.7990\n",
            "Epoch 23/25\n",
            "250/250 [==============================] - 37s 148ms/step - loss: 0.3899 - accuracy: 0.8213 - val_loss: 0.4805 - val_accuracy: 0.7895\n",
            "Epoch 24/25\n",
            "250/250 [==============================] - 37s 147ms/step - loss: 0.3893 - accuracy: 0.8246 - val_loss: 0.4260 - val_accuracy: 0.8050\n",
            "Epoch 25/25\n",
            "250/250 [==============================] - 42s 168ms/step - loss: 0.3820 - accuracy: 0.8309 - val_loss: 0.4273 - val_accuracy: 0.8065\n"
          ]
        },
        {
          "output_type": "execute_result",
          "data": {
            "text/plain": [
              "<keras.src.callbacks.History at 0x7d8e64ab89a0>"
            ]
          },
          "metadata": {},
          "execution_count": 12
        }
      ]
    },
    {
      "cell_type": "markdown",
      "source": [
        "### **Fitting Dengan Citra**"
      ],
      "metadata": {
        "id": "AuAVHVByuEd0"
      }
    },
    {
      "cell_type": "code",
      "source": [
        "import numpy as np\n",
        "from keras.preprocessing import image\n",
        "test_image = image.load_img(prediction_dt+'cat_or_dog_1.jpg', target_size = (64, 64))\n",
        "test_image = image.img_to_array(test_image)\n",
        "test_image = np.expand_dims(test_image, axis = 0)\n",
        "result = cnn.predict(test_image)\n",
        "training_set.class_indices\n",
        "if result[0][0] == 1:\n",
        "  prediction = 'dog'\n",
        "else:\n",
        "  prediction = 'cat'"
      ],
      "metadata": {
        "colab": {
          "base_uri": "https://localhost:8080/"
        },
        "id": "P-rbgyvZuHTq",
        "outputId": "9cf39572-37a0-4cbb-f005-f462155af5a0"
      },
      "execution_count": 16,
      "outputs": [
        {
          "output_type": "stream",
          "name": "stdout",
          "text": [
            "1/1 [==============================] - 0s 196ms/step\n"
          ]
        }
      ]
    },
    {
      "cell_type": "code",
      "source": [
        "# model dapat memprediksi dengan baik, dengan akurasi 0.8065 ~> 80,65%\n",
        "print(prediction)"
      ],
      "metadata": {
        "colab": {
          "base_uri": "https://localhost:8080/"
        },
        "id": "vAYhvsGAuyzm",
        "outputId": "6421dd83-bdd4-49ff-82aa-acf39f97f879"
      },
      "execution_count": 18,
      "outputs": [
        {
          "output_type": "stream",
          "name": "stdout",
          "text": [
            "dog\n"
          ]
        }
      ]
    }
  ]
}